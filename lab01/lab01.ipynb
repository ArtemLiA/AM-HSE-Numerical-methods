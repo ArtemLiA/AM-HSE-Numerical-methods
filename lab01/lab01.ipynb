{
 "cells": [
  {
   "cell_type": "markdown",
   "id": "ff58810e-c33d-4e83-8cf7-8e8f7c00ba7f",
   "metadata": {},
   "source": [
    "### **Лабораторная работа 1**\n",
    "\n",
    "_Ляхов Артём Андреевич БПМ211_\n",
    "\n",
    "Вариант 10\n",
    "\n",
    "Задания: 1.1.10, 1.3.3, 1.6, 1.7, 1.9.4"
   ]
  },
  {
   "cell_type": "code",
   "execution_count": 1,
   "id": "47845032-3f80-462b-a8f7-94b2a9594899",
   "metadata": {},
   "outputs": [],
   "source": [
    "import numpy as np\n",
    "import matplotlib.pyplot as plt"
   ]
  },
  {
   "cell_type": "markdown",
   "id": "665c971f-8ad1-4d3b-88df-7023fe377f4d",
   "metadata": {},
   "source": [
    "### __Задача 1.1.10__\n",
    "#### Формулировка задачи\n",
    "Дан числовой ряд \n",
    "$$\n",
    "\\sum\\limits_{n=0}^{\\infty} a_n,\\ \\ \\ \\ \\ a_n = \\frac{84}{13(n^2 + 14n + 48)}\n",
    "$$\n",
    "Необходимо аналитически найти сумму ряда как предел частичных сумм. Затем для $N=10,\\ 10^2,\\ 10^3,\\ 10^4,\\ 10^5$ вычислить $S(N) = \\sum\\limits_{n=0}^{N}a_n$, найти абсолютную погрешность и количество верных цифр в $S(N)$ "
   ]
  },
  {
   "cell_type": "markdown",
   "id": "fecf6d1b-8746-4907-82f4-78fc9d0739bf",
   "metadata": {},
   "source": [
    "#### Аналитический вывод суммы ряда\n",
    "Аналитический вывод значения суммы ряда можно найти в отчёте к лабораторной работе."
   ]
  },
  {
   "cell_type": "markdown",
   "id": "7630936a-2be3-41ab-a009-c2b6f65583c3",
   "metadata": {},
   "source": [
    "#### Код для решения задачи\n",
    "Ниже представлен код для решения вычислительной части задачи."
   ]
  },
  {
   "cell_type": "code",
   "execution_count": 2,
   "id": "53acec62-ace0-4bcb-9296-89931b43ae0c",
   "metadata": {},
   "outputs": [],
   "source": [
    "import numpy as np\n",
    "import matplotlib.pyplot as plt\n",
    "\n",
    "\n",
    "def compute_a_n(n: int):\n",
    "    \"\"\"\n",
    "    Finds the n-th term of series.\n",
    "    \"\"\"\n",
    "    return 84/(13 * (n**2 + 14*n + 48))\n",
    "\n",
    "\n",
    "def compute_S_N(N: int):\n",
    "    \"\"\"\n",
    "    Calculates the partitial sum of series.\n",
    "    \"\"\"\n",
    "    total = 0.0\n",
    "    for n in range(N + 1):\n",
    "        total += compute_a_n(n)\n",
    "    return total\n",
    "\n",
    "\n",
    "def find_error(S_N: float, S: float):\n",
    "    \"\"\"\n",
    "    Calculate the absolute error for the partitial sum.\n",
    "    \"\"\"\n",
    "    return np.abs(S_N - S)\n",
    "\n",
    "\n",
    "def find_num_digits(S_N: float, S: float):\n",
    "    \"\"\"\n",
    "    Finds the number of correct digits.\n",
    "    \"\"\"\n",
    "    error = find_error(S_N, S)\n",
    "    n_digits = 0\n",
    "    MAX_ITER = 30\n",
    "    while error < 10 ** (-n_digits) and n_digits < MAX_ITER:\n",
    "        n_digits += 1\n",
    "    return n_digits - 1"
   ]
  },
  {
   "cell_type": "code",
   "execution_count": 3,
   "id": "de1cd50e-998c-4be2-8f34-2b9a90b9d93c",
   "metadata": {},
   "outputs": [],
   "source": [
    "sums = {}\n",
    "errors = {}\n",
    "num_digits = {}\n",
    "\n",
    "S = 1\n",
    "\n",
    "for deg in range(1, 6):\n",
    "    N = 10 ** deg\n",
    "    S_N = compute_S_N(N)\n",
    "    \n",
    "    sums[N] = S_N\n",
    "    errors[N] = find_error(S_N, S)\n",
    "    num_digits[N] = find_num_digits(S_N, S)"
   ]
  },
  {
   "cell_type": "code",
   "execution_count": 4,
   "id": "220d11a6-5636-43d9-9541-ce338208a3db",
   "metadata": {},
   "outputs": [
    {
     "name": "stdout",
     "output_type": "stream",
     "text": [
      "---Results for N=10---\n",
      "Partitial sum:0.63046757\n",
      "Error:0.36953243\n",
      "Number of correct digits:0\n",
      "\n",
      "---Results for N=100---\n",
      "Partitial sum:0.93989137\n",
      "Error:0.06010863\n",
      "Number of correct digits:1\n",
      "\n",
      "---Results for N=1000---\n",
      "Partitial sum:0.99358656\n",
      "Error:0.00641344\n",
      "Number of correct digits:2\n",
      "\n",
      "---Results for N=10000---\n",
      "Partitial sum:0.99935433\n",
      "Error:0.00064567\n",
      "Number of correct digits:3\n",
      "\n",
      "---Results for N=100000---\n",
      "Partitial sum:0.99993539\n",
      "Error:0.00006461\n",
      "Number of correct digits:4\n",
      "\n"
     ]
    }
   ],
   "source": [
    "N_list = [str(N) for N in errors.keys()]\n",
    "err_list = [e for e in errors.values()]\n",
    "digits_list = [d for d in num_digits.values()]\n",
    "\n",
    "for N in sums:\n",
    "    print(f\"---Results for N={N}---\")\n",
    "    print(f\"Partitial sum:{sums[N]:.8f}\")\n",
    "    print(f\"Error:{errors[N]:.8f}\")\n",
    "    print(f\"Number of correct digits:{num_digits[N]}\")\n",
    "    print()"
   ]
  },
  {
   "cell_type": "code",
   "execution_count": 5,
   "id": "9b24929f-2168-4a81-8347-f7e1b667a087",
   "metadata": {},
   "outputs": [
    {
     "data": {
      "image/png": "[encoded data removed]",
      "text/plain": [
       "<Figure size 640x480 with 1 Axes>"
      ]
     },
     "metadata": {},
     "output_type": "display_data"
    }
   ],
   "source": [
    "plt.bar(N_list, err_list, color='magenta')\n",
    "\n",
    "plt.yscale('log')\n",
    "plt.xlabel('N')\n",
    "\n",
    "plt.savefig('plots/series_abs_error.png', dpi=300)\n",
    "plt.show()"
   ]
  },
  {
   "cell_type": "code",
   "execution_count": 6,
   "id": "a4665b6c-4bad-44aa-b95c-8c1136bd1d0b",
   "metadata": {},
   "outputs": [
    {
     "data": {
      "image/png": "[encoded data removed]",
      "text/plain": [
       "<Figure size 640x480 with 1 Axes>"
      ]
     },
     "metadata": {},
     "output_type": "display_data"
    }
   ],
   "source": [
    "plt.bar(N_list, digits_list, color='cyan')\n",
    "\n",
    "plt.xlabel('N')\n",
    "plt.yticks([n for n in range(max(digits_list) + 2)])\n",
    "\n",
    "plt.savefig('plots/series_num_digits.png', dpi=300)\n",
    "plt.show()"
   ]
  },
  {
   "cell_type": "markdown",
   "id": "97b49361-2444-4f92-890e-952a934b10a3",
   "metadata": {},
   "source": [
    "### __Задача 1.3.3__\n",
    "#### Формулировка задачи\n",
    "Для заданной матрицы $A$ найти (если это возможно) обратную матрицу. Затем в элемент $a_{11}$ внести погрешность в 10% и снова найти обратную матрицу. Объяснить полученный результат."
   ]
  },
  {
   "cell_type": "code",
   "execution_count": 7,
   "id": "de4d286a-a2c7-41b0-9e2a-65dc1ad38537",
   "metadata": {},
   "outputs": [],
   "source": [
    "A = np.array([[3, 5, 3],\n",
    "              [9, 15, 9],\n",
    "              [6, 7, 2]], dtype=float)"
   ]
  },
  {
   "cell_type": "code",
   "execution_count": 8,
   "id": "dfed77f2-b734-4dfe-b844-5004f42b827a",
   "metadata": {},
   "outputs": [],
   "source": [
    "def det(mat):\n",
    "    \"\"\"\n",
    "    Calculates determinant for 3x3 matrix\n",
    "    \"\"\"\n",
    "    det = 0\n",
    "    det += mat[0, 0] * mat[1, 1] * mat[2, 2] \n",
    "    det += mat[1, 0] * mat[2, 1] * mat[0, 2] \n",
    "    det += mat[0, 1] * mat[1, 2] * mat[2, 0]\n",
    "    det -= mat[0, 2] * mat[1, 1] * mat[2, 0]\n",
    "    det -= mat[0, 0] * mat[1, 2] * mat[2, 1] \n",
    "    det -= mat[0, 1] * mat[1, 0] * mat[2, 2]\n",
    "    return det "
   ]
  },
  {
   "cell_type": "code",
   "execution_count": 9,
   "id": "e084043c-3e75-4391-a731-9a318cb8ed85",
   "metadata": {},
   "outputs": [
    {
     "data": {
      "text/plain": [
       "0.0"
      ]
     },
     "execution_count": 9,
     "metadata": {},
     "output_type": "execute_result"
    }
   ],
   "source": [
    "det(A)"
   ]
  },
  {
   "cell_type": "markdown",
   "id": "44d60bb6-4276-466c-b1c1-fc7d8640f730",
   "metadata": {},
   "source": [
    "Определитель матрицы $A$ равен 0. Следовательно, у этой матрицы не существует обратной.\n",
    "\n",
    "Добавим погрешность в $a_{11}$ и попробуем найти обратную матрицу."
   ]
  },
  {
   "cell_type": "code",
   "execution_count": 10,
   "id": "7044cc62-f265-42ed-9402-83a36762df98",
   "metadata": {},
   "outputs": [],
   "source": [
    "B = np.copy(A).astype(float)\n",
    "C = np.copy(A).astype(float)\n",
    "\n",
    "B[0, 0] = 1.1 * B[0, 0]\n",
    "C[0, 0] = 0.9 * C[0, 0]"
   ]
  },
  {
   "cell_type": "code",
   "execution_count": 11,
   "id": "d2af8523-17d8-4eaa-9096-55888c5194e1",
   "metadata": {},
   "outputs": [
    {
     "name": "stdout",
     "output_type": "stream",
     "text": [
      "Det(B):-9.900000000000034\n",
      "Det(C):9.900000000000006\n"
     ]
    }
   ],
   "source": [
    "print(f\"Det(B):{det(B)}\")\n",
    "print(f\"Det(C):{det(C)}\")"
   ]
  },
  {
   "cell_type": "code",
   "execution_count": 12,
   "id": "2163011b-560f-4608-8e09-2b6770bb9042",
   "metadata": {},
   "outputs": [
    {
     "name": "stdout",
     "output_type": "stream",
     "text": [
      "Matrix inverse to B:\n",
      "[[ 3.33333333e+00 -1.11111111e+00  1.17190208e-16]\n",
      " [-3.63636364e+00  1.15151515e+00  2.72727273e-01]\n",
      " [ 2.72727273e+00 -6.96969697e-01 -4.54545455e-01]]\n"
     ]
    }
   ],
   "source": [
    "print(\"Matrix inverse to B:\")\n",
    "print(np.linalg.inv(B))"
   ]
  },
  {
   "cell_type": "code",
   "execution_count": 13,
   "id": "6132b541-3577-4a0d-93fe-3bd1fffead70",
   "metadata": {},
   "outputs": [
    {
     "name": "stdout",
     "output_type": "stream",
     "text": [
      "Matrix inverse to C:\n",
      "[[-3.33333333e+00  1.11111111e+00  1.17190208e-16]\n",
      " [ 3.63636364e+00 -1.27272727e+00  2.72727273e-01]\n",
      " [-2.72727273e+00  1.12121212e+00 -4.54545455e-01]]\n"
     ]
    }
   ],
   "source": [
    "print(\"Matrix inverse to C:\")\n",
    "print(np.linalg.inv(C))"
   ]
  },
  {
   "cell_type": "markdown",
   "id": "07dc9074-5000-414a-ac80-d31c9bcb1dbd",
   "metadata": {},
   "source": [
    "### __Задача 1.6__\n",
    "#### Формулировка задачи\n",
    "Для языка Python найти значение машинного нуля, машинной бесконечности, машинного эпсилон."
   ]
  },
  {
   "cell_type": "code",
   "execution_count": 14,
   "id": "89f6357a-a17c-4b3a-9f68-11ee14f0e29d",
   "metadata": {},
   "outputs": [
    {
     "name": "stdout",
     "output_type": "stream",
     "text": [
      "Machine zero in Python is 5e-324\n"
     ]
    }
   ],
   "source": [
    "a = 1\n",
    "b = a\n",
    "while a > 0:\n",
    "    b = a\n",
    "    a /= 2\n",
    "\n",
    "print(f\"Machine zero in Python is {b}\")"
   ]
  },
  {
   "cell_type": "code",
   "execution_count": 15,
   "id": "5109021f-e2ce-4e3d-b04e-fd9796a9e0e5",
   "metadata": {},
   "outputs": [
    {
     "name": "stdout",
     "output_type": "stream",
     "text": [
      "Machine infinity in Python is 8.98846567431158e+307\n"
     ]
    }
   ],
   "source": [
    "a = 1.0\n",
    "b = a\n",
    "while a != float('inf'):\n",
    "    b = a\n",
    "    a *= 2\n",
    "\n",
    "print(f\"Machine infinity in Python is {b}\")"
   ]
  },
  {
   "cell_type": "code",
   "execution_count": 16,
   "id": "c8de9ef0-e735-4e5d-81d0-3db45ef8107f",
   "metadata": {},
   "outputs": [
    {
     "name": "stdout",
     "output_type": "stream",
     "text": [
      "Machine epsilon in Python is 2.220446049250313e-16\n"
     ]
    }
   ],
   "source": [
    "a = 1.0\n",
    "eps = a\n",
    "while a + 1 > 1:\n",
    "    eps = a\n",
    "    a /= 2\n",
    "\n",
    "print(f\"Machine epsilon in Python is {eps}\")"
   ]
  },
  {
   "cell_type": "markdown",
   "id": "000af94a-749b-4cda-b45c-0ae1082084d7",
   "metadata": {},
   "source": [
    "### __Задача 1.7__\n",
    "#### Формулировка задачи\n",
    "Вычислить значение машинного нуля, машинной бесконечности машинного эпсилон в режимах одинарной, двойной и расширенной точности на двух алгоритмических языках. Сравнить результаты между собой."
   ]
  },
  {
   "cell_type": "code",
   "execution_count": 19,
   "id": "b3f2bc6d-c7d6-4e86-8adc-085dd079dab8",
   "metadata": {},
   "outputs": [],
   "source": [
    "import warnings\n",
    "\n",
    "\n",
    "def get_machine_zero(dtype):\n",
    "    \"\"\"\n",
    "    Finds machine zero for data type\n",
    "    \"\"\"\n",
    "    a = np.array([1.0], dtype=dtype)\n",
    "    dtype_zero = np.copy(a)\n",
    "    while (a > 0).all():\n",
    "        dtype_zero = np.copy(a)\n",
    "        a /= 2\n",
    "    return dtype_zero[0]\n",
    "\n",
    "\n",
    "def get_machine_inf(dtype):\n",
    "    \"\"\"\n",
    "    Finds machine infinity for data type\n",
    "    \"\"\"\n",
    "    warnings.filterwarnings(\"ignore\")\n",
    "    a = np.array([1.0], dtype=dtype)\n",
    "    dtype_inf = np.copy(a)\n",
    "    while not np.isinf(a).all():\n",
    "        dtype_inf = np.copy(a)\n",
    "        a *= 2\n",
    "    warnings.filterwarnings(\"default\")\n",
    "    return dtype_inf[0]\n",
    "\n",
    "\n",
    "def get_machine_eps(dtype):\n",
    "    \"\"\"\n",
    "    Finds machine epsilon for data type\n",
    "    \"\"\"\n",
    "    a = np.array([1.0], dtype=dtype)\n",
    "    dtype_eps = np.copy(b)\n",
    "    while (a + 1 > 1).all():\n",
    "        dtype_eps = np.copy(a)\n",
    "        a /= 2\n",
    "    return dtype_eps[0]\n",
    "\n",
    "\n",
    "def get_info(dtype):\n",
    "    \"\"\"\n",
    "    Finds machine zero, infinity and epsilon.\n",
    "    :rtype: tuple(float, float, float)\n",
    "    \"\"\"\n",
    "    dtype_zero = get_machine_zero(dtype)\n",
    "    dtype_inf = get_machine_inf(dtype)\n",
    "    dtype_eps = get_machine_eps(dtype)\n",
    "    return dtype_zero, dtype_inf, dtype_eps"
   ]
  },
  {
   "cell_type": "code",
   "execution_count": 35,
   "id": "2aaabfa5-7a6a-4419-826b-f7ba806af2c0",
   "metadata": {},
   "outputs": [],
   "source": [
    "zero_s, inf_s, eps_s = get_info(np.single)\n",
    "zero_d, inf_d, eps_d = get_info(np.double)\n",
    "zero_ld, inf_ld, eps_ld = get_info(np.longdouble)"
   ]
  },
  {
   "cell_type": "code",
   "execution_count": 36,
   "id": "94b6b74f-47f6-4bd1-a558-06422199c92f",
   "metadata": {},
   "outputs": [
    {
     "name": "stdout",
     "output_type": "stream",
     "text": [
      "-- Single precision mode --\n",
      "Zero: 1.401298464324817e-45\n",
      "Infinity: 1.7014118346046923e+38\n",
      "Epsilon: 1.1920928955078125e-07\n",
      "\n",
      "-- Double precision mode --\n",
      "Zero: 5e-324\n",
      "Infinity: 8.98846567431158e+307\n",
      "Epsilon: 2.220446049250313e-16\n",
      "\n",
      "-- Extended precision mode --\n",
      "Zero: 5e-324\n",
      "Infinity: 8.98846567431158e+307\n",
      "Epsilon: 2.220446049250313e-16\n"
     ]
    }
   ],
   "source": [
    "print(\"-- Single precision mode --\")\n",
    "print(f\"Zero: {zero_s}\")\n",
    "print(f\"Infinity: {inf_s}\")\n",
    "print(f\"Epsilon: {eps_s}\", end='\\n\\n')\n",
    "\n",
    "print(\"-- Double precision mode --\")\n",
    "print(f\"Zero: {zero_d}\")\n",
    "print(f\"Infinity: {inf_d}\")\n",
    "print(f\"Epsilon: {eps_d}\", end='\\n\\n')\n",
    "\n",
    "print(\"-- Extended precision mode --\")\n",
    "print(f\"Zero: {zero_ld}\")\n",
    "print(f\"Infinity: {inf_ld}\")\n",
    "print(f\"Epsilon: {eps_ld}\")"
   ]
  },
  {
   "cell_type": "markdown",
   "id": "b0b12528-147b-4ab6-94bb-c1b19d2351e5",
   "metadata": {},
   "source": [
    "### __Задача 1.9.4__\n",
    "#### Формулировка задачи\n",
    "Для матрицы $A$ решить вопрос существования обратной в следующих случаях:\n",
    "\n",
    "1) элементы матрицы заданы точно;\n",
    "2) элементы матрицы заданы приближённо с относительной погрешностью а)$\\ \\delta = \\alpha \\%$ б)$\\ \\delta = \\beta \\%$\n",
    "\n",
    "Найти относительную погрешность.\n",
    "\n",
    "$$\n",
    "A = \\begin{pmatrix}\n",
    "    9    & 5   & 6  \\\\\n",
    "    13.5 & 9.5 & 11 \\\\\n",
    "    8    & 4   & 5\n",
    "\\end{pmatrix}\n",
    "$$\n",
    "\n",
    "$$\n",
    "\\alpha = 0.1 \\\\ \\ \\ \\ \\ \\ \\beta = 0.5\n",
    "$$"
   ]
  },
  {
   "cell_type": "code",
   "execution_count": 106,
   "id": "66356d15-9fd7-48ba-a033-1b19f5e14f6b",
   "metadata": {},
   "outputs": [],
   "source": [
    "mat_A = np.array([\n",
    "    [9, 5, 6],\n",
    "    [13.5, 9.5, 11],\n",
    "    [8, 4, 5]\n",
    "])\n",
    "\n",
    "alpha = 0.1\n",
    "beta = 0.5\n",
    "\n",
    "delta1 = 0.01 * alpha\n",
    "delta2 = 0.01 * beta"
   ]
  },
  {
   "cell_type": "markdown",
   "id": "655c6bbb-d5dc-47ad-9b76-2b1b106b11cb",
   "metadata": {},
   "source": [
    "#### Случай точных значений"
   ]
  },
  {
   "cell_type": "code",
   "execution_count": 107,
   "id": "4cd9405e-1872-4065-928f-2eac8c1450e9",
   "metadata": {},
   "outputs": [
    {
     "data": {
      "text/plain": [
       "2.0"
      ]
     },
     "execution_count": 107,
     "metadata": {},
     "output_type": "execute_result"
    }
   ],
   "source": [
    "det(mat_A)"
   ]
  },
  {
   "cell_type": "markdown",
   "id": "0b97aedb-1acb-4a75-b32d-809f845b5e30",
   "metadata": {},
   "source": [
    "#### Случай приближённых значений"
   ]
  },
  {
   "cell_type": "code",
   "execution_count": 108,
   "id": "88b9fc37-0324-42c6-947b-c9bd1ac09e32",
   "metadata": {},
   "outputs": [],
   "source": [
    "def int2mat(N: int):\n",
    "    \"\"\"\n",
    "    Convert integer number N to 3 on 3 matrix with elements equal 1 or -1.\n",
    "    \"\"\"\n",
    "    arr = np.zeros(9)\n",
    "    for i in range(9):\n",
    "        arr[i] = (N >> i) % 2\n",
    "    arr = arr.reshape(3, 3)\n",
    "    arr[arr == 0] = -1\n",
    "    return arr\n",
    "\n",
    "\n",
    "def find_min_and_max_det(mat: np.ndarray, delta: float):\n",
    "    \"\"\"\n",
    "    Returns m and M for given 3 on 3 matrix and delta\n",
    "    \"\"\"\n",
    "    m = +np.inf\n",
    "    M = -np.inf\n",
    "    for n in range(2 ** 9):\n",
    "        current_mat = mat * (1 + delta * int2mat(n))\n",
    "        determinant = det(current_mat)\n",
    "        if determinant < m:\n",
    "            m = determinant\n",
    "        if determinant > M:\n",
    "            M = determinant\n",
    "    return m, M"
   ]
  },
  {
   "cell_type": "code",
   "execution_count": 114,
   "id": "94f1635b-e342-4bdf-98d7-3a5a43e19513",
   "metadata": {},
   "outputs": [],
   "source": [
    "m1, M1 = find_min_and_max_det(mat_A, delta1)\n",
    "m2, M2 = find_min_and_max_det(mat_A, delta2)\n",
    "\n",
    "eps1 = (M1 - m1) / (m1 + M1)\n",
    "eps2 = (M2 - m2) / (m2 + M2)"
   ]
  },
  {
   "cell_type": "code",
   "execution_count": 117,
   "id": "4fa9eafb-ca77-4ee1-a074-105532f7d251",
   "metadata": {},
   "outputs": [
    {
     "name": "stdout",
     "output_type": "stream",
     "text": [
      "-- delta=0.1% --\n",
      "m=1.4695\n",
      "M=2.5295\n",
      "relative error: 0.2651\n",
      "\n",
      "-- delta=0.5% --\n",
      "m=-0.6632\n",
      "M=4.6367\n",
      "relative error: 1.3338\n"
     ]
    }
   ],
   "source": [
    "print(f\"-- delta={alpha}% --\")\n",
    "print(f\"m={m1:.4f}\")\n",
    "print(f\"M={M1:.4f}\")\n",
    "print(f\"relative error: {eps1:.4f}\")\n",
    "print()\n",
    "\n",
    "print(f\"-- delta={beta}% --\")\n",
    "print(f\"m={m2:.4f}\")\n",
    "print(f\"M={M2:.4f}\")\n",
    "print(f\"relative error: {eps2:.4f}\")"
   ]
  }
 ],
 "metadata": {
  "kernelspec": {
   "display_name": "Python 3 (ipykernel)",
   "language": "python",
   "name": "python3"
  },
  "language_info": {
   "codemirror_mode": {
    "name": "ipython",
    "version": 3
   },
   "file_extension": ".py",
   "mimetype": "text/x-python",
   "name": "python",
   "nbconvert_exporter": "python",
   "pygments_lexer": "ipython3",
   "version": "3.9.18"
  }
 },
 "nbformat": 4,
 "nbformat_minor": 5
}
