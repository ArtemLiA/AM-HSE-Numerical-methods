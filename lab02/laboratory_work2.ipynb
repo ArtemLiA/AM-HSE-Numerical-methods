{
 "cells": [
  {
   "cell_type": "markdown",
   "id": "f78c3f67-4f34-422b-9cfd-dedbd8bc6a51",
   "metadata": {},
   "source": [
    "### **Лабораторная работа 2**\n",
    "\n",
    "_Ляхов Артём Андреевич БПМ211_\n",
    "\n",
    "Вариант 10\n",
    "\n",
    "Задания: 3.1.10, 3.4, 3.6.2"
   ]
  },
  {
   "cell_type": "code",
   "execution_count": 22,
   "id": "18b49607-0226-476c-bae7-150bb07cb99f",
   "metadata": {},
   "outputs": [],
   "source": [
    "import numpy as np\n",
    "import matplotlib.pyplot as plt\n",
    "import itertools"
   ]
  },
  {
   "cell_type": "markdown",
   "id": "c3aa18c2-ee0a-4b92-be12-5b31f55c3516",
   "metadata": {},
   "source": [
    "### __Задача 3.1.10__\n",
    "#### Формулировка задачи\n",
    "Дана система уравнений $Ax = b$ порядка $n$. Необходимо исследовать зависимость погрешности решения $x$ от погрешностей правой части система $b$.\n",
    "\n",
    "Значения $a_{ij}$ матрицы $A$ и $b_i$ вектора $b$ задаются следующими соотношениями:\n",
    "$$\n",
    "a_{ij} = sin\\left(\\frac{c_{ij}}{8}\\right),\\ \\ \\ c_{ij}=0.1\\cdot N \\cdot i \\cdot j,\\ \\ \\ b_i=N\n",
    "$$\n",
    "где $N=10$ - номер варианта, $n=5$ - порядок системы."
   ]
  },
  {
   "cell_type": "code",
   "execution_count": 23,
   "id": "1ecea06b-d12b-4d58-832a-94efe97c8ea9",
   "metadata": {},
   "outputs": [],
   "source": [
    "n, N = 5, 10\n",
    "\n",
    "A = np.zeros(shape=(n, n), dtype=np.double)\n",
    "b = np.full(shape=n, fill_value=N, dtype=np.double)\n",
    "\n",
    "for i, j in itertools.product(range(n), range(n)):\n",
    "    c = 0.1 * N * (i + 1) * (j + 1)\n",
    "    A[i, j] = np.sin(c/8)"
   ]
  },
  {
   "cell_type": "code",
   "execution_count": 24,
   "id": "d6dc4e56-1627-4c32-a946-5f1db5919734",
   "metadata": {},
   "outputs": [],
   "source": [
    "x = np.linalg.solve(A, b)\n",
    "cond = np.linalg.cond(A, p=np.inf)"
   ]
  },
  {
   "cell_type": "code",
   "execution_count": 25,
   "id": "ab78d486-e310-43ba-b2d5-1b6bdea3d3de",
   "metadata": {},
   "outputs": [],
   "source": [
    "def get_d(x_true, x_approx):\n",
    "    \"\"\"\n",
    "    Calculates d for true vector x_true and approximate vector x_approx.\n",
    "    \"\"\"\n",
    "    return np.linalg.norm(x_true - x_approx, ord=np.inf)/np.linalg.norm(x_true, ord=np.inf)"
   ]
  },
  {
   "cell_type": "code",
   "execution_count": 26,
   "id": "3bf48be9-09f4-4cb7-a5b4-964518526b95",
   "metadata": {},
   "outputs": [],
   "source": [
    "d_vec = np.zeros(n, dtype=np.double)\n",
    "delta = 0.5\n",
    "\n",
    "for i in range(n):\n",
    "    b_mod = b.copy()\n",
    "    b_mod[i] += delta\n",
    "    x_mod = np.linalg.solve(A, b_mod)\n",
    "    d_vec[i] = get_d(x, x_mod)"
   ]
  },
  {
   "cell_type": "code",
   "execution_count": 27,
   "id": "1456b277-e2ac-404c-b690-4ca1a7e019ce",
   "metadata": {},
   "outputs": [
    {
     "data": {
      "image/png": "[encoded data removed]",
      "text/plain": [
       "<Figure size 640x480 with 1 Axes>"
      ]
     },
     "metadata": {},
     "output_type": "display_data"
    }
   ],
   "source": [
    "plt.bar(x=range(1, n+1), height=d_vec, color='aquamarine')\n",
    "\n",
    "plt.xlabel('m')\n",
    "plt.ylabel('$d_m$')\n",
    "\n",
    "plt.savefig('plots\\problem1_precision.png', format='png')\n",
    "plt.show()"
   ]
  },
  {
   "cell_type": "code",
   "execution_count": 7,
   "id": "f864bdd8-4c9e-49d9-a260-5e63a26bf6e6",
   "metadata": {},
   "outputs": [],
   "source": [
    "m_max = np.argmax(d_vec)\n",
    "\n",
    "b_max = b.copy()\n",
    "b_max[m_max] += delta\n",
    "\n",
    "x_max = np.linalg.solve(A, b_max)\n",
    "\n",
    "delta_x = get_d(x, x_max)\n",
    "delta_b = get_d(b, b_max)\n",
    "delta_max = cond * delta_b "
   ]
  },
  {
   "cell_type": "code",
   "execution_count": 10,
   "id": "5b40a5f0-32c9-411a-a692-148460201b7e",
   "metadata": {},
   "outputs": [
    {
     "data": {
      "text/plain": [
       "array([0.1529, 0.1807, 0.1075, 0.0345, 0.0048])"
      ]
     },
     "execution_count": 10,
     "metadata": {},
     "output_type": "execute_result"
    }
   ],
   "source": [
    "np.round(d_vec, 4)"
   ]
  },
  {
   "cell_type": "code",
   "execution_count": 30,
   "id": "8b6195ef-49d1-4b48-9708-133e655bbc0c",
   "metadata": {},
   "outputs": [
    {
     "name": "stdout",
     "output_type": "stream",
     "text": [
      "m = 2\n",
      "cond(A) = 7690516.4277\n",
      "delta(b^m) = 0.0500\n",
      "delta(x^m) = 0.1807\n",
      "\n",
      "Неравенство:\n",
      "0.1807 <= 384525.8214\n"
     ]
    }
   ],
   "source": [
    "print(f\"m = {m_max + 1}\")\n",
    "print(f\"cond(A) = {cond:.4f}\")\n",
    "print(f\"delta(b^m) = {delta_b:.4f}\")\n",
    "print(f\"delta(x^m) = {delta_x:.4f}\")\n",
    "\n",
    "print()\n",
    "\n",
    "print(\"Неравенство:\")\n",
    "print(f\"{delta_x:.4f} <= {delta_max:.4f}\")"
   ]
  },
  {
   "cell_type": "markdown",
   "id": "490f504a-6d30-4beb-8777-0ca66567eb82",
   "metadata": {},
   "source": [
    "### __Задача 3.4__\n",
    "#### Формулировка задачи\n",
    "Требуется решить систему уравнений $Ax=b$ из _задачи 3.1_, используя LU-разложение матрицы $A$."
   ]
  },
  {
   "cell_type": "code",
   "execution_count": 12,
   "id": "70d42452-31fb-4813-97a8-b14e59d22430",
   "metadata": {},
   "outputs": [],
   "source": [
    "def lu(A: np.ndarray):\n",
    "    \"\"\"\n",
    "    Computes LU decomposition of matrix with partitial pivoting\n",
    "\n",
    "    :param np.ndarray A: array to decompose. Must be 2-dimensional and be square matrix.\n",
    "    :return: P, L, U matrices: P - permutation matrix, \n",
    "                               L - lower triangular matrix, \n",
    "                               U - upper triangular matrix.\n",
    "    \"\"\"\n",
    "    n = A.shape[0]\n",
    "\n",
    "    U = A.copy()\n",
    "    L, P = np.eye(n, dtype=float), np.eye(n, dtype=float)\n",
    "\n",
    "    for i in range(n):\n",
    "        # Partitial pivoting\n",
    "        for k in range(i, n):\n",
    "            if ~np.isclose(U[i, i], 0.0):\n",
    "                break\n",
    "            U[[i, k]] = U[[k, i]]\n",
    "            P[[i, k]] = U[[k, i]]\n",
    "        \n",
    "        factor = U[i+1:, i] / U[i, i]\n",
    "        L[i+1:, i] = factor\n",
    "        U[i+1:] -= factor[:, None] * U[i]\n",
    "    \n",
    "    return P, L, U\n",
    "\n",
    "\n",
    "def forward_substitution(L, b):\n",
    "    \"\"\"\n",
    "    Returns a solution y of linear system Ly = b, aka\n",
    "    performs forward substitution in solution of system LUx=b.\n",
    "\n",
    "    :param np.ndarray L: lower-triangular matrix L from LU-decomposition.\n",
    "    :param np.ndarray b: vector - right part of system Ax=b or LUx=b.\n",
    "    :return np.ndarray: solution of the system Ly=b. \n",
    "    \"\"\"\n",
    "    n = L.shape[0]\n",
    "    y = np.zeros(n, dtype=float)\n",
    "    for i in range(n):\n",
    "        y[i] = (b[i] - L[i, :i] @ y[:i]) / L[i, i]\n",
    "    return y\n",
    "\n",
    "\n",
    "def back_substitution(U, y):\n",
    "    \"\"\"\n",
    "    Returns a solution of linear system Ux = y, aka \n",
    "    performs back substitution in solution of linear system LUx = b.\n",
    "\n",
    "    :param np.ndarray U: upper-triangular matrix U from LU-decomposition.\n",
    "    :param np.ndarray y: solution of system Ly=b (see forward_substitution).\n",
    "    :return np.ndarray: solution of the system Ux=y, aka solution of system LUx=b.\n",
    "    \"\"\"\n",
    "    \n",
    "    n = U.shape[0]\n",
    "    x = np.zeros(n, dtype=float)\n",
    "    for i in reversed(range(n)):\n",
    "        x[i] = (y[i] - U[i, i+1:] @ x[i+1:]) / U[i, i]\n",
    "    return x\n",
    "    \n",
    "\n",
    "def solve_lu(A, b):\n",
    "    \"\"\"\n",
    "    Solves a system of linear equations using LU-decomposition.\n",
    "\n",
    "    :param np.ndarray A: coefficient matrix.\n",
    "    :param np.ndarray b: ordinate or “dependent variable” values.\n",
    "    :return np.ndarray: solution to the system Ax=b. \n",
    "    \"\"\"\n",
    "    n = A.shape[0]\n",
    "    P, L, U = lu(A)\n",
    "\n",
    "    b = P @ b\n",
    "    y = forward_substitution(L, b)\n",
    "    return back_substitution(U, y)"
   ]
  },
  {
   "cell_type": "code",
   "execution_count": 13,
   "id": "c795bc6d-dea9-43ee-bc9a-b0b1787a760a",
   "metadata": {},
   "outputs": [
    {
     "name": "stdout",
     "output_type": "stream",
     "text": [
      "Решение системы, найденное с помощью LU-разложения:\n",
      "[[ 1732046.00042832]\n",
      " [-2052111.22450604]\n",
      " [ 1226346.77320945]\n",
      " [ -395911.8919326 ]\n",
      " [   55377.46940079]]\n"
     ]
    }
   ],
   "source": [
    "print(\"Решение системы, найденное с помощью LU-разложения:\")\n",
    "print(solve_lu(A, b).reshape(-1, 1))"
   ]
  },
  {
   "cell_type": "code",
   "execution_count": 14,
   "id": "80df4818-bf5c-4190-900d-8097f8620f91",
   "metadata": {},
   "outputs": [
    {
     "data": {
      "text/plain": [
       "True"
      ]
     },
     "execution_count": 14,
     "metadata": {},
     "output_type": "execute_result"
    }
   ],
   "source": [
    "np.allclose(solve_lu(A, b), x)"
   ]
  },
  {
   "cell_type": "code",
   "execution_count": 15,
   "id": "818383e7-b54e-40c7-9fef-d39028d1ede7",
   "metadata": {},
   "outputs": [
    {
     "data": {
      "text/plain": [
       "7.625244129646137e-11"
      ]
     },
     "execution_count": 15,
     "metadata": {},
     "output_type": "execute_result"
    }
   ],
   "source": [
    "get_d(solve_lu(A, b), x)"
   ]
  },
  {
   "cell_type": "markdown",
   "id": "fe660977-a515-4007-a4b4-b7e4b243ec2d",
   "metadata": {},
   "source": [
    "### __Задача 3.6.2__\n",
    "#### Формулировка задачи\n",
    "Дана система уравнений $Ax=b$ порядка $n$, где $A=A(t)$, $t$-параметр. Исследовать зависимость решения системы $Ax=b$ от вычислительной погрешности при заданных значениях параметра $t$.\n",
    "\n",
    "Значения $A_{ij}$ матрицы $A$ задаются соотношением:\n",
    "$$\n",
    "A_{ij} = \\begin{cases}\n",
    "            q_{M}^j,\\ \\ i \\ne j \\\\\n",
    "            q_{M}^{j} + t,\\ \\ i = j \n",
    "         \\end{cases}\n",
    "$$\n",
    "где $q_{M} = 0.993 + (-1)^M \\cdot M \\cdot 10^{-4}$, параметр $t$ принимает значения $0.0001$, $1$, $10000$. Элементы вектора $b$ вычисляются как $b_{j} = q_{M}^{n+1-j}$. При этом по условию варианта $M=2$, $n=100$, $m=5$."
   ]
  },
  {
   "cell_type": "code",
   "execution_count": 40,
   "id": "d6a1db24-fba5-46fe-ad68-704a06a1e5b3",
   "metadata": {},
   "outputs": [],
   "source": [
    "def get_A(n, M, t, m = None):\n",
    "    \"\"\"\n",
    "    Returns A matrix according to the condition.\n",
    "    \"\"\"\n",
    "    q = 0.993 + ((-1) ** M) * M * 1e-4 \n",
    "    A = np.zeros((n, n), dtype=float)\n",
    "    \n",
    "    for i, j in itertools.product(range(n), range(n)):\n",
    "        A[i, i] = (q ** j) if i != j else (q ** j) + t\n",
    "        \n",
    "    return A if m is None else np.round(A, m)\n",
    "\n",
    "\n",
    "def get_b(n, M, m = None):\n",
    "    \"\"\"\n",
    "    Returns b vector according to the condition. \n",
    "    \"\"\"\n",
    "    q = 0.993 + ((-1) ** M) * M * 1e-4\n",
    "    b = np.zeros(n, dtype=float)\n",
    "\n",
    "    for j in range(n):\n",
    "        b[j] = q ** (n + 1 - j)\n",
    "        \n",
    "    return b if m is None else np.round(b, m)"
   ]
  },
  {
   "cell_type": "code",
   "execution_count": 41,
   "id": "71427ffa-0a4b-4871-841e-7b37dc63b9a9",
   "metadata": {},
   "outputs": [],
   "source": [
    "def solve_gauss(A, b, m = None):\n",
    "    \"\"\"\n",
    "    Solves a system of equations by the Gauss method.\n",
    "\n",
    "    :param np.ndarray A: coefficient matrix.\n",
    "    :param np.ndarray b: ordinate or \"dependent variable\" values.\n",
    "    :return np.ndarray x: solution to the system Ax=b.\n",
    "    \"\"\"\n",
    "    n = A.shape[0]\n",
    "    a = np.concatenate((A, b.reshape(-1, 1)), axis=1)\n",
    "\n",
    "    for i in range(n):\n",
    "        j = np.argmax(np.abs(a[i, i:-1])) + i\n",
    "        a[[i, j]] = a[[j, i]]\n",
    "\n",
    "        if np.isclose(a[i, i], 0):\n",
    "            continue\n",
    "\n",
    "        for k in range(i+1, n):\n",
    "            ratio = a[k, i]/a[i, i]\n",
    "            a[k] = a[k] - ratio * a[i]\n",
    "\n",
    "        if m is not None:\n",
    "            a = np.round(a, m)\n",
    "    \n",
    "    x = np.zeros(n, dtype=float)\n",
    "    for i in reversed(range(n)):\n",
    "        value = (a[i, -1] - x[i+1:] @ a[i, i+1:-1]) / a[i, i]\n",
    "        x[i] = value if m is None else np.round(value, m)\n",
    "\n",
    "    return x"
   ]
  },
  {
   "cell_type": "code",
   "execution_count": 46,
   "id": "7af3f004-e877-4fdc-93c5-a9dde49216ff",
   "metadata": {},
   "outputs": [],
   "source": [
    "def absolute_error(x_true, x_approx, ord=1):\n",
    "    return np.linalg.norm(x_true - x_approx, ord=ord)\n",
    "\n",
    "\n",
    "def relative_error(x_true, x_approx, ord=1):\n",
    "    err = absolute_error(x_true, x_approx, ord)\n",
    "    return err/np.linalg.norm(x_true, ord=ord)"
   ]
  },
  {
   "cell_type": "markdown",
   "id": "330fb282-0e40-492c-9146-3ba76bc81c7e",
   "metadata": {},
   "source": [
    "#### Проверка корректности\n",
    "Здесь и далее в качестве расстояния между решениями будем использовать норму разности, где \n",
    "$||x|| = ||x||_{1} = \\sum\\limits_{i=1}^{n}|x_i|$"
   ]
  },
  {
   "cell_type": "code",
   "execution_count": 48,
   "id": "5b9c6bfd-809d-4e17-93c8-76087c92b686",
   "metadata": {},
   "outputs": [
    {
     "name": "stdout",
     "output_type": "stream",
     "text": [
      "Absolute error: 6.036837696399289e-16\n",
      "Relative error: 4.316088836974617e-16\n"
     ]
    }
   ],
   "source": [
    "mat = np.random.randint(-10, 11, size=(5, 5)).astype(float)\n",
    "vec = np.random.randint(-5, 5, size=5).astype(float)\n",
    "\n",
    "x_method = solve_gauss(mat, vec)\n",
    "x_true = np.linalg.solve(mat, vec)\n",
    "\n",
    "print(f\"Absolute error: {absolute_error(x_true, x_method)}\")\n",
    "print(f\"Relative error: {relative_error(x_true, x_method)}\")"
   ]
  },
  {
   "cell_type": "code",
   "execution_count": 52,
   "id": "c1c40b6d-76b6-40ba-b0f4-f25e6ae747e5",
   "metadata": {},
   "outputs": [],
   "source": [
    "M, n, m = 2, 100, 5\n",
    "t_list = [1e-4, 1, 10_000]"
   ]
  },
  {
   "cell_type": "code",
   "execution_count": 54,
   "id": "5b56e554-788b-404b-a829-28a82b6725c2",
   "metadata": {},
   "outputs": [
    {
     "name": "stdout",
     "output_type": "stream",
     "text": [
      "t = 0.0001\n",
      "Absolute error: 0.0007469482645003911\n",
      "Relative error: 5.2983920272805855e-06\n",
      "\n",
      "t = 1\n",
      "Absolute error: 0.0007276038415945374\n",
      "Relative error: 5.208623428252422e-06\n",
      "\n",
      "t = 10000\n",
      "Absolute error: 0.0007280435716826997\n",
      "Relative error: 5.236273025617739e-06\n",
      "\n"
     ]
    }
   ],
   "source": [
    "for t in t_list:\n",
    "    A = get_A(n, M, t)\n",
    "    b = get_b(n, M)\n",
    "\n",
    "    A1 = get_A(n, M, t, m)\n",
    "    b1 = get_b(n, M, m)\n",
    "\n",
    "    x = solve_gauss(A, b)\n",
    "    x1 = solve_gauss(A1, b1, m)\n",
    "\n",
    "    print(f\"t = {t}\")\n",
    "    print(f\"Absolute error: {absolute_error(x, x1)}\")\n",
    "    print(f\"Relative error: {relative_error(x, x1)}\")\n",
    "    print()"
   ]
  }
 ],
 "metadata": {
  "kernelspec": {
   "display_name": "Python 3 (ipykernel)",
   "language": "python",
   "name": "python3"
  },
  "language_info": {
   "codemirror_mode": {
    "name": "ipython",
    "version": 3
   },
   "file_extension": ".py",
   "mimetype": "text/x-python",
   "name": "python",
   "nbconvert_exporter": "python",
   "pygments_lexer": "ipython3",
   "version": "3.9.18"
  }
 },
 "nbformat": 4,
 "nbformat_minor": 5
}
